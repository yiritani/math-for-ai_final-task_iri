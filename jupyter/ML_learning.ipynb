{
 "cells": [
  {
   "cell_type": "markdown",
   "source": [
    "# 人工知能のための数学最終レポート\n",
    "\n",
    "*M21W0B09_入谷雄介*\n",
    "\n",
    "***\n",
    "## コンセプト\n",
    "自宅の家賃が妥当なのかどうか調査するため、最寄り駅の賃貸物件の家賃から学習モデルを作成。<br>\n",
    "散布図と線形回帰のプロットに自宅を被せて表示するプログラムを作成。<br>\n",
    "基本的には「人工知能のための数学」の講義内で教授された記法を使う。"
   ],
   "metadata": {
    "collapsed": false
   }
  },
  {
   "cell_type": "code",
   "execution_count": 37,
   "outputs": [],
   "source": [
    "import numpy as np\n",
    "import matplotlib.pyplot as plt\n"
   ],
   "metadata": {
    "collapsed": false,
    "pycharm": {
     "name": "#%%\n"
    }
   }
  },
  {
   "cell_type": "markdown",
   "source": [
    "賃貸住宅の基礎データ"
   ],
   "metadata": {
    "collapsed": false
   }
  },
  {
   "cell_type": "code",
   "execution_count": 38,
   "outputs": [],
   "source": [
    "def generatePredictModel():\n",
    "    with open('house_price.csv', 'r') as fd:\n",
    "        feature_names = np.array(fd.read().split('\\n')[0].split(','))\n",
    "\n",
    "    csv_data = np.loadtxt('house_price.csv', delimiter=',', skiprows=1)\n",
    "\n",
    "    learning_data = csv_data[:, np.logical_or(feature_names == 'FarFromStation', feature_names == 'Age')]\n",
    "    learning_data = np.array([i[0] / 2 + i[1] for i in learning_data])\n",
    "\n",
    "    true_data = csv_data[:, feature_names == 'TotalPrice']\n",
    "    true_data = np.array([i[0] for i in true_data])\n",
    "\n",
    "    return learning_data, true_data"
   ],
   "metadata": {
    "collapsed": false,
    "pycharm": {
     "name": "#%%\n"
    }
   }
  },
  {
   "cell_type": "code",
   "execution_count": 39,
   "outputs": [],
   "source": [
    "# 駅徒歩 + 築年数　と　家賃を返してもらう\n",
    "x1, yt = generatePredictModel()\n",
    "\n",
    "x_mean = np.mean(x1)\n",
    "x_std = np.std(x1)\n",
    "\n",
    "x3 = (x1 - x_mean) / x_std"
   ],
   "metadata": {
    "collapsed": false,
    "pycharm": {
     "name": "#%%\n"
    }
   }
  },
  {
   "cell_type": "code",
   "execution_count": 40,
   "outputs": [
    {
     "name": "stdout",
     "output_type": "stream",
     "text": [
      "[[ 1.          0.64088387]\n",
      " [ 1.         -1.4602687 ]\n",
      " [ 1.         -0.67233649]\n",
      " [ 1.         -1.13196361]\n",
      " [ 1.         -1.13196361]\n",
      " [ 1.         -0.7379975 ]\n",
      " [ 1.         -1.13196361]\n",
      " [ 1.         -1.59159074]\n",
      " [ 1.         -1.59159074]\n",
      " [ 1.         -1.59159074]]\n"
     ]
    }
   ],
   "source": [
    "x_org = np.reshape(x3, (-1,1))\n",
    "x = np.insert(x_org, 0, 1.0, axis=1)\n",
    "print(x[:10])"
   ],
   "metadata": {
    "collapsed": false,
    "pycharm": {
     "name": "#%%\n"
    }
   }
  },
  {
   "cell_type": "markdown",
   "source": [
    "#### 予測関数predの定義"
   ],
   "metadata": {
    "collapsed": false
   }
  },
  {
   "cell_type": "code",
   "execution_count": 41,
   "outputs": [],
   "source": [
    "# 予測関数 (1, x)の値から予測値ypを計算する\n",
    "def pred(x, w):\n",
    "    return(x @ w)\n"
   ],
   "metadata": {
    "collapsed": false,
    "pycharm": {
     "name": "#%%\n"
    }
   }
  },
  {
   "cell_type": "code",
   "execution_count": 42,
   "outputs": [],
   "source": [
    "# 初期化処理\n",
    "\n",
    "# データ系列総数\n",
    "# 次の行を正しく実装します\n",
    "M  = x.shape[0]\n",
    "\n",
    "# 入力データ次元数(ダミー変数を含む)\n",
    "# 次の行を正しく実装します\n",
    "D = x.shape[1]\n",
    "\n",
    "# 繰り返し回数\n",
    "iters = 2000\n",
    "\n",
    "# 学習率\n",
    "alpha = 0.01"
   ],
   "metadata": {
    "collapsed": false,
    "pycharm": {
     "name": "#%%\n"
    }
   }
  },
  {
   "cell_type": "code",
   "execution_count": 43,
   "outputs": [],
   "source": [
    "# 重みベクトルの初期値 (すべての値を1にする)\n",
    "# 次の行を正しく実装します\n",
    "w = np.ones(D)\n",
    "\n",
    "# 評価結果記録用 (損失関数値のみ記録)\n",
    "# 次の行を正しく実装します\n",
    "history = np.zeros((0,2))"
   ],
   "metadata": {
    "collapsed": false,
    "pycharm": {
     "name": "#%%\n"
    }
   }
  },
  {
   "cell_type": "code",
   "execution_count": 44,
   "outputs": [
    {
     "name": "stdout",
     "output_type": "stream",
     "text": [
      "iter = 0  loss = 25.769718 [1.06860207 0.98226927]\n",
      "iter = 2000  loss = 0.666604 [ 7.86020704 -0.773073  ]\n"
     ]
    }
   ],
   "source": [
    "\n",
    "# 繰り返しループ\n",
    "\n",
    "for k in range(iters+1):\n",
    "\n",
    "    # 予測値の計算 (7.8.1)\n",
    "    yp = pred(x, w)\n",
    "\n",
    "    # 誤差の計算 (7.8.2)\n",
    "    yd = yp - yt\n",
    "\n",
    "    # 勾配降下法の実装 (7.8.4)\n",
    "    w = w - alpha * (x.T @ yd) / M\n",
    "\n",
    "    # 学習曲線描画用データの計算、保存\n",
    "    if k % 2000 == 0:\n",
    "        # 損失関数値の計算 (7.6.1)\n",
    "        loss = np.mean(yd ** 2) / 2\n",
    "        # 計算結果の記録\n",
    "        history = np.vstack((history, np.array([k, loss])))\n",
    "        # 画面表示\n",
    "        print( \"iter = %d  loss = %f\" % (k, loss), w)\n"
   ],
   "metadata": {
    "collapsed": false,
    "pycharm": {
     "name": "#%%\n"
    }
   }
  },
  {
   "cell_type": "code",
   "execution_count": 45,
   "outputs": [
    {
     "name": "stdout",
     "output_type": "stream",
     "text": [
      "予測値: [7.36475702 8.98910134 8.37997222 8.73529754 8.73529754 8.43073298\n",
      " 8.73529754 9.09062286 9.09062286 9.09062286]\n",
      "実測値 [7.7  7.6  8.   9.65 9.85 8.   9.85 8.3  8.3  8.3 ]\n",
      "誤差 [-0.33524298  1.38910134  0.37997222 -0.91470246 -1.11470246  0.43073298\n",
      " -1.11470246  0.79062286  0.79062286  0.79062286]\n"
     ]
    }
   ],
   "source": [
    "# 予測値、正解値、誤差の表示(最初の10要素)\n",
    "\n",
    "print('予測値:', yp[:10])\n",
    "print('実測値', yt[:10])\n",
    "print('誤差', yd[:10])\n"
   ],
   "metadata": {
    "collapsed": false,
    "pycharm": {
     "name": "#%%\n"
    }
   }
  },
  {
   "cell_type": "markdown",
   "source": [
    "#### 散布図と回帰直線の同時表示"
   ],
   "metadata": {
    "collapsed": false,
    "pycharm": {
     "name": "#%% md\n"
    }
   }
  },
  {
   "cell_type": "code",
   "execution_count": 46,
   "outputs": [
    {
     "name": "stdout",
     "output_type": "stream",
     "text": [
      "[[ 1.         -3.95538737]\n",
      " [ 1.          3.13600254]]\n",
      "[10.91801022  5.43584814]\n"
     ]
    }
   ],
   "source": [
    "# 回帰直線描画用の座標値計算\n",
    "\n",
    "# xの最小値、最大値の座標を計算\n",
    "xl = np.array([[1, x3.min()],[1, x3.max()]])\n",
    "\n",
    "# 対応するyの予測値を計算\n",
    "yl = pred(xl, w)\n",
    "\n",
    "# 結果確認\n",
    "print(xl)\n",
    "print(yl)"
   ],
   "metadata": {
    "collapsed": false,
    "pycharm": {
     "name": "#%%\n"
    }
   }
  },
  {
   "cell_type": "markdown",
   "source": [
    "#### 我が家の値を正規化"
   ],
   "metadata": {
    "collapsed": false
   }
  },
  {
   "cell_type": "code",
   "execution_count": 47,
   "outputs": [],
   "source": [
    "# 我が家の値生成\n",
    "my_home_x = (13.0 + 29.0 - x_mean) / x_std\n",
    "my_home_y = 8.3\n"
   ],
   "metadata": {
    "collapsed": false,
    "pycharm": {
     "name": "#%%\n"
    }
   }
  },
  {
   "cell_type": "markdown",
   "source": [
    "#### プロット表示"
   ],
   "metadata": {
    "collapsed": false
   }
  },
  {
   "cell_type": "code",
   "execution_count": 48,
   "outputs": [
    {
     "data": {
      "text/plain": "<Figure size 432x432 with 1 Axes>",
      "image/png": "[encoded data removed]"
     },
     "metadata": {
      "needs_background": "light"
     },
     "output_type": "display_data"
    }
   ],
   "source": [
    "plt.figure(figsize=(6,6))\n",
    "plt.scatter(x3, yt, s=10, c='b')\n",
    "plt.scatter(my_home_x, my_home_y, s=100, c='r', marker=\"*\")\n",
    "plt.xlabel('density', fontsize=14)\n",
    "plt.ylabel('alchol', fontsize=14)\n",
    "plt.plot(xl[:,1], yl, c='k')\n",
    "plt.show()"
   ],
   "metadata": {
    "collapsed": false,
    "pycharm": {
     "name": "#%%\n"
    }
   }
  }
 ],
 "metadata": {
  "kernelspec": {
   "display_name": "Python 3",
   "language": "python",
   "name": "python3"
  },
  "language_info": {
   "codemirror_mode": {
    "name": "ipython",
    "version": 2
   },
   "file_extension": ".py",
   "mimetype": "text/x-python",
   "name": "python",
   "nbconvert_exporter": "python",
   "pygments_lexer": "ipython2",
   "version": "2.7.6"
  }
 },
 "nbformat": 4,
 "nbformat_minor": 0
}