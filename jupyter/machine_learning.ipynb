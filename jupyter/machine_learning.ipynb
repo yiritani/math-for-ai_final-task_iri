{
 "cells": [
  {
   "cell_type": "markdown",
   "source": [
    "# 人工知能のための数学最終レポート\n",
    "\n",
    "*M21W0B09_入谷雄介*\n",
    "\n",
    "***\n",
    "## コンセプト\n",
    "自宅の家賃が妥当なのかどうか調査するため、最寄り駅の賃貸物件の家賃から学習モデルを作成。<br>\n",
    "散布図と線形回帰のプロットに自宅を被せて表示するプログラムを作成。<br>\n",
    "基本的には「人工知能のための数学」の講義内で教授された記法を使う。\n",
    "\n",
    "***\n",
    "## 仮説\n",
    "賃貸サイトを見ている限りでは割安であると予想している。"
   ],
   "metadata": {
    "collapsed": false
   }
  },
  {
   "cell_type": "code",
   "execution_count": 62,
   "outputs": [],
   "source": [
    "import numpy as np\n",
    "import matplotlib.pyplot as plt\n"
   ],
   "metadata": {
    "collapsed": false,
    "pycharm": {
     "name": "#%%\n"
    }
   }
  },
  {
   "cell_type": "markdown",
   "source": [
    "#### 賃貸住宅の基礎データ\n",
    "※横軸 = (駅徒歩 / 2) + 築年数<br>"
   ],
   "metadata": {
    "collapsed": false
   }
  },
  {
   "cell_type": "code",
   "execution_count": 63,
   "outputs": [],
   "source": [
    "def generatePredictModel():\n",
    "    with open('house_price.csv', 'r') as fd:\n",
    "        feature_names = np.array(fd.read().split('\\n')[0].split(','))\n",
    "\n",
    "    csv_data = np.loadtxt('house_price.csv', delimiter=',', skiprows=1)\n",
    "\n",
    "    learning_data = csv_data[:, np.logical_or(feature_names == 'FarFromStation', feature_names == 'Age')]\n",
    "    learning_data = np.array([i[0] / 2 + i[1] for i in learning_data])\n",
    "\n",
    "    true_data = csv_data[:, feature_names == 'TotalPrice']\n",
    "    true_data = np.array([i[0] for i in true_data])\n",
    "\n",
    "    return learning_data, true_data"
   ],
   "metadata": {
    "collapsed": false,
    "pycharm": {
     "name": "#%%\n"
    }
   }
  },
  {
   "cell_type": "code",
   "execution_count": 64,
   "outputs": [],
   "source": [
    "# 駅徒歩 + 築年数　と　家賃を返してもらう\n",
    "x1, yt = generatePredictModel()\n",
    "\n",
    "x_mean = np.mean(x1)\n",
    "x_std = np.std(x1)\n",
    "\n",
    "x3 = (x1 - x_mean) / x_std"
   ],
   "metadata": {
    "collapsed": false,
    "pycharm": {
     "name": "#%%\n"
    }
   }
  },
  {
   "cell_type": "code",
   "execution_count": 65,
   "outputs": [
    {
     "name": "stdout",
     "output_type": "stream",
     "text": [
      "[[ 1.          2.02520744]\n",
      " [ 1.         -0.46561887]\n",
      " [ 1.         -1.43427354]\n",
      " [ 1.         -2.05698012]\n",
      " [ 1.         -0.67318773]\n",
      " [ 1.         -1.08832545]\n",
      " [ 1.         -0.67318773]\n",
      " [ 1.         -0.18886039]\n",
      " [ 1.          0.71060466]\n",
      " [ 1.         -0.05048115]]\n"
     ]
    }
   ],
   "source": [
    "x_org = np.reshape(x3, (-1,1))\n",
    "x = np.insert(x_org, 0, 1.0, axis=1)\n",
    "print(x[:10])"
   ],
   "metadata": {
    "collapsed": false,
    "pycharm": {
     "name": "#%%\n"
    }
   }
  },
  {
   "cell_type": "markdown",
   "source": [
    "#### 予測関数predの定義"
   ],
   "metadata": {
    "collapsed": false
   }
  },
  {
   "cell_type": "code",
   "execution_count": 66,
   "outputs": [],
   "source": [
    "# 予測関数 (1, x)の値から予測値ypを計算する\n",
    "def pred(x, w):\n",
    "    return(x @ w)\n"
   ],
   "metadata": {
    "collapsed": false,
    "pycharm": {
     "name": "#%%\n"
    }
   }
  },
  {
   "cell_type": "code",
   "execution_count": 67,
   "outputs": [],
   "source": [
    "# 初期化処理\n",
    "\n",
    "# データ系列総数\n",
    "# 次の行を正しく実装します\n",
    "M  = x.shape[0]\n",
    "\n",
    "# 入力データ次元数(ダミー変数を含む)\n",
    "# 次の行を正しく実装します\n",
    "D = x.shape[1]\n",
    "\n",
    "# 繰り返し回数\n",
    "iters = 10000\n",
    "\n",
    "# 学習率\n",
    "alpha = 0.001"
   ],
   "metadata": {
    "collapsed": false,
    "pycharm": {
     "name": "#%%\n"
    }
   }
  },
  {
   "cell_type": "code",
   "execution_count": 68,
   "outputs": [],
   "source": [
    "# 重みベクトルの初期値 (すべての値を1にする)\n",
    "# 次の行を正しく実装します\n",
    "w = np.ones(D)\n",
    "\n",
    "# 評価結果記録用 (損失関数値のみ記録)\n",
    "# 次の行を正しく実装します\n",
    "history = np.zeros((0,2))"
   ],
   "metadata": {
    "collapsed": false,
    "pycharm": {
     "name": "#%%\n"
    }
   }
  },
  {
   "cell_type": "code",
   "execution_count": 69,
   "outputs": [
    {
     "name": "stdout",
     "output_type": "stream",
     "text": [
      "iter = 0  loss = 24.942279 [1.00674879 0.99825764]\n",
      "iter = 2000  loss = 1.095337 [ 6.83726265 -0.50702626]\n",
      "iter = 4000  loss = 0.659438 [ 7.62554769 -0.71054053]\n",
      "iter = 6000  loss = 0.651470 [ 7.73212377 -0.73805564]\n",
      "iter = 8000  loss = 0.651325 [ 7.74653285 -0.74177568]\n",
      "iter = 10000  loss = 0.651322 [ 7.74848096 -0.74227863]\n"
     ]
    }
   ],
   "source": [
    "\n",
    "# 繰り返しループ\n",
    "\n",
    "for k in range(iters+1):\n",
    "\n",
    "    # 予測値の計算 (7.8.1)\n",
    "    yp = pred(x, w)\n",
    "\n",
    "    # 誤差の計算 (7.8.2)\n",
    "    yd = yp - yt\n",
    "\n",
    "    # 勾配降下法の実装 (7.8.4)\n",
    "    w = w - alpha * (x.T @ yd) / M\n",
    "\n",
    "    # 学習曲線描画用データの計算、保存\n",
    "    if k % 2000 == 0:\n",
    "        # 損失関数値の計算 (7.6.1)\n",
    "        loss = np.mean(yd ** 2) / 2\n",
    "        # 計算結果の記録\n",
    "        history = np.vstack((history, np.array([k, loss])))\n",
    "        # 画面表示\n",
    "        print( \"iter = %d  loss = %f\" % (k, loss), w)\n"
   ],
   "metadata": {
    "collapsed": false,
    "pycharm": {
     "name": "#%%\n"
    }
   }
  },
  {
   "cell_type": "code",
   "execution_count": 70,
   "outputs": [
    {
     "name": "stdout",
     "output_type": "stream",
     "text": [
      "予測値: [6.24521261 8.09409955 8.81311114 9.27533288 8.24817347 8.55632129\n",
      " 8.24817347 7.88866767 7.22101405 7.78595173]\n",
      "実測値 [8.8  8.7  7.6  7.7  8.   9.85 7.3  6.8  8.2  7.5 ]\n",
      "誤差 [-2.55478739 -0.60590045  1.21311114  1.57533288  0.24817347 -1.29367871\n",
      "  0.94817347  1.08866767 -0.97898595  0.28595173]\n"
     ]
    }
   ],
   "source": [
    "# 予測値、正解値、誤差の表示(最初の10要素)\n",
    "\n",
    "print('予測値:', yp[:10])\n",
    "print('実測値', yt[:10])\n",
    "print('誤差', yd[:10])\n"
   ],
   "metadata": {
    "collapsed": false,
    "pycharm": {
     "name": "#%%\n"
    }
   }
  },
  {
   "cell_type": "markdown",
   "source": [
    "#### 散布図と回帰直線の同時表示"
   ],
   "metadata": {
    "collapsed": false,
    "pycharm": {
     "name": "#%% md\n"
    }
   }
  },
  {
   "cell_type": "code",
   "execution_count": 71,
   "outputs": [
    {
     "name": "stdout",
     "output_type": "stream",
     "text": [
      "[[ 1.         -4.06347909]\n",
      " [ 1.          3.40899983]]\n",
      "[10.76471466  5.21805323]\n"
     ]
    }
   ],
   "source": [
    "# 回帰直線描画用の座標値計算\n",
    "\n",
    "# xの最小値、最大値の座標を計算\n",
    "xl = np.array([[1, x3.min()],[1, x3.max()]])\n",
    "\n",
    "# 対応するyの予測値を計算\n",
    "yl = pred(xl, w)\n",
    "\n",
    "# 結果確認\n",
    "print(xl)\n",
    "print(yl)"
   ],
   "metadata": {
    "collapsed": false,
    "pycharm": {
     "name": "#%%\n"
    }
   }
  },
  {
   "cell_type": "markdown",
   "source": [
    "#### 我が家の値を正規化"
   ],
   "metadata": {
    "collapsed": false
   }
  },
  {
   "cell_type": "code",
   "execution_count": 72,
   "outputs": [],
   "source": [
    "# 我が家の値生成\n",
    "my_home_x = ((13.0 / 2.0) + 29.0 - x_mean) / x_std\n",
    "my_home_y = 8.3\n"
   ],
   "metadata": {
    "collapsed": false,
    "pycharm": {
     "name": "#%%\n"
    }
   }
  },
  {
   "cell_type": "markdown",
   "source": [
    "#### プロット表示"
   ],
   "metadata": {
    "collapsed": false
   }
  },
  {
   "cell_type": "code",
   "execution_count": 73,
   "outputs": [
    {
     "data": {
      "text/plain": "<Figure size 432x432 with 1 Axes>",
      "image/png": "[encoded data removed]"
     },
     "metadata": {
      "needs_background": "light"
     },
     "output_type": "display_data"
    }
   ],
   "source": [
    "plt.figure(figsize=(6,6))\n",
    "plt.scatter(x3, yt, s=10, c='b')\n",
    "plt.scatter(my_home_x, my_home_y, s=100, c='r', marker=\"*\")\n",
    "plt.xlabel('(FarFromStation / 2) + Age', fontsize=14)\n",
    "plt.ylabel('TotalPrice', fontsize=14)\n",
    "plt.plot(xl[:,1], yl, c='k')\n",
    "plt.title('Is the price of your home reasonable?')\n",
    "plt.show()"
   ],
   "metadata": {
    "collapsed": false,
    "pycharm": {
     "name": "#%%\n"
    }
   }
  },
  {
   "cell_type": "markdown",
   "source": [
    "#### 横軸について\n",
    "駅徒歩と築年数を単純に足すだけだとinputとしては確実に誤っていると思われる。<br>\n",
    "例えば、駅徒歩50分の新築物件のような場合、新築であるというのがウリなので駅徒歩が家賃の現象に影響することは無いと予想される。<br>\n",
    "そこで、定量的に家賃に影響する築年数はいじらず、駅徒歩を半分にして異常値の丸め込みを行った。\n"
   ],
   "metadata": {
    "collapsed": false,
    "pycharm": {
     "name": "#%% md\n"
    }
   }
  },
  {
   "cell_type": "markdown",
   "source": [
    "### ToDo\n",
    "横軸の(駅徒歩 / 2)についてはもう少し検討の余地があると思われる。<br>\n",
    "また、地区や周辺の建物など値を増やしていくと精度は上がっていくはず。"
   ],
   "metadata": {
    "collapsed": false
   }
  },
  {
   "cell_type": "markdown",
   "source": [
    "### 結果\n",
    "回帰直線よりも上に位置しているため、このエリア内では多少割高な家賃であると言える。<br>\n",
    "築年数や駅徒歩を加味すると多少割安な印象があったのだが、個人的にはややがっかりな結果となった。<br>\n",
    "今後転居する際などはこのアプリを用いて試算するのも1つ良いかもしれない。"
   ],
   "metadata": {
    "collapsed": false
   }
  }
 ],
 "metadata": {
  "kernelspec": {
   "display_name": "Python 3",
   "language": "python",
   "name": "python3"
  },
  "language_info": {
   "codemirror_mode": {
    "name": "ipython",
    "version": 2
   },
   "file_extension": ".py",
   "mimetype": "text/x-python",
   "name": "python",
   "nbconvert_exporter": "python",
   "pygments_lexer": "ipython2",
   "version": "2.7.6"
  }
 },
 "nbformat": 4,
 "nbformat_minor": 0
}